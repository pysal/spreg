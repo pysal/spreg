{
 "cells": [
  {
   "cell_type": "markdown",
   "id": "875eecf3",
   "metadata": {},
   "source": [
    "# `scikit-learn` Interface Demo\n",
    "\n",
    "**By Tyler D. Hoffman**\n",
    "\n",
    "This notebook demonstrates the usage of the `spreg.sklearn` submodule which provides a `scikit-learn` style interface to spatial regression models in `spreg`. "
   ]
  },
  {
   "cell_type": "markdown",
   "id": "98555126",
   "metadata": {},
   "source": [
    "## Imports"
   ]
  },
  {
   "cell_type": "code",
   "execution_count": 1,
   "id": "7727cbe8",
   "metadata": {},
   "outputs": [],
   "source": [
    "import os\n",
    "os.chdir(\"..\")  # make sure to run the notebook in spreg/, not spreg/notebooks"
   ]
  },
  {
   "cell_type": "code",
   "execution_count": 2,
   "id": "2436cf19",
   "metadata": {},
   "outputs": [],
   "source": [
    "import spreg\n",
    "import numpy as np\n",
    "import pandas as pd\n",
    "import geopandas as gpd\n",
    "from libpysal.examples import load_example\n",
    "from libpysal.weights import Kernel, fill_diagonal\n",
    "from sklearn.linear_model import LinearRegression"
   ]
  },
  {
   "cell_type": "markdown",
   "id": "3606a586",
   "metadata": {},
   "source": [
    "## Load data \n",
    "\n",
    "We'll use the Boston housing example for this demonstration."
   ]
  },
  {
   "cell_type": "code",
   "execution_count": 3,
   "id": "70feb73d",
   "metadata": {},
   "outputs": [],
   "source": [
    "boston = load_example(\"Bostonhsg\")\n",
    "boston_df = gpd.read_file(boston.get_path(\"boston.shp\"))"
   ]
  },
  {
   "cell_type": "markdown",
   "id": "2b76c6e1",
   "metadata": {},
   "source": [
    "### Make weights matrix \n",
    "\n",
    "We'll use a kernel weights matrix. We also set the diagonal of the weights matrix to 0 (necessary for lag model)."
   ]
  },
  {
   "cell_type": "code",
   "execution_count": 4,
   "id": "0ff44981",
   "metadata": {},
   "outputs": [],
   "source": [
    "weights = Kernel(boston_df[[\"x\", \"y\"]], k=50, fixed=False)\n",
    "weights = fill_diagonal(weights, 0)"
   ]
  },
  {
   "cell_type": "markdown",
   "id": "91681cdb",
   "metadata": {},
   "source": [
    "### Transform data\n",
    "\n",
    "These variable transformations are inspired by the original paper (Harrison and Rubinfeld, 1978)."
   ]
  },
  {
   "cell_type": "code",
   "execution_count": 5,
   "id": "05177258",
   "metadata": {},
   "outputs": [],
   "source": [
    "boston_df[\"NOXSQ\"] = (10 * boston_df[\"NOX\"])**2\n",
    "boston_df[\"RMSQ\"] = boston_df[\"RM\"]**2\n",
    "boston_df[\"LOGDIS\"] = np.log(boston_df[\"DIS\"].values)\n",
    "boston_df[\"LOGRAD\"] = np.log(boston_df[\"RAD\"].values)\n",
    "boston_df[\"TRANSB\"] = boston_df[\"B\"].values / 1000\n",
    "boston_df[\"LOGSTAT\"] = np.log(boston_df[\"LSTAT\"].values)\n",
    "boston_df[\"LCMEDV\"] = np.log(boston_df[\"CMEDV\"].values)\n",
    "\n",
    "fields = [\"RMSQ\", \"AGE\", \"LOGDIS\", \"LOGRAD\", \"TAX\", \"PTRATIO\",\n",
    "          \"TRANSB\", \"LOGSTAT\", \"CRIM\", \"ZN\", \"INDUS\", \"CHAS\", \"NOXSQ\"]\n",
    "\n",
    "X = boston_df[fields].values\n",
    "y = boston_df[\"LCMEDV\"].values  # predict log corrected median house prices from covars"
   ]
  },
  {
   "cell_type": "markdown",
   "id": "73a4402e",
   "metadata": {},
   "source": [
    "## Run regressions\n",
    "\n",
    "The `scikit-learn` paradigm requires users to first instantiate a model object with all relevant hyperparameters (e.g., a flag to fit without an intercept) and then to call the `.fit()` method on the model object with the data in question. For `spreg`, the spatial weights matrix has been interpreted as a *hyperparameter* and therefore belongs in the object instantiation, not the fit method. Users will need to create different model objects if they want to use different weights matrices (e.g., to study a different spatial domain or to test a different weights matrix construction). This reflects the idea that using different weights matrices creates fundamentally different models.\n",
    "\n",
    "For more information about the design pattern, see [`scikit-learn`'s documentation](https://scikit-learn.org/dev/developers/develop.html#apis-of-scikit-learn-objects)."
   ]
  },
  {
   "cell_type": "markdown",
   "id": "187b5062",
   "metadata": {},
   "source": [
    "First, we'll fit an ordinary linear regression. There is no `OLS` model in `spreg.sklearn` as that functionality is already implemented in [`sklearn.linear_model.LinearRegression`](https://scikit-learn.org/stable/modules/generated/sklearn.linear_model.LinearRegression.html). "
   ]
  },
  {
   "cell_type": "code",
   "execution_count": 6,
   "id": "8c24db3d",
   "metadata": {},
   "outputs": [],
   "source": [
    "ols_model = LinearRegression()\n",
    "ols_model = ols_model.fit(X, y)"
   ]
  },
  {
   "cell_type": "markdown",
   "id": "2a668e32",
   "metadata": {},
   "source": [
    "To examine the parameters, print the model's `coef_` attribute. To examine the intercept, print the model's `intercept_` attribute."
   ]
  },
  {
   "cell_type": "code",
   "execution_count": 7,
   "id": "9e6865ef",
   "metadata": {
    "scrolled": true
   },
   "outputs": [
    {
     "data": {
      "text/plain": [
       "array([ 6.25494507e-03,  7.09912518e-05, -1.97838956e-01,  8.95655637e-02,\n",
       "       -4.19109258e-04, -2.95984861e-02,  3.61095092e-01, -3.74895205e-01,\n",
       "       -1.17721086e-02,  9.16910022e-05,  1.78958133e-04,  9.21276564e-02,\n",
       "       -6.37263848e-03])"
      ]
     },
     "execution_count": 7,
     "metadata": {},
     "output_type": "execute_result"
    }
   ],
   "source": [
    "ols_model.coef_"
   ]
  },
  {
   "cell_type": "code",
   "execution_count": 8,
   "id": "6e3bbd63",
   "metadata": {},
   "outputs": [
    {
     "data": {
      "text/plain": [
       "4.562491092412862"
      ]
     },
     "execution_count": 8,
     "metadata": {},
     "output_type": "execute_result"
    }
   ],
   "source": [
    "ols_model.intercept_"
   ]
  },
  {
   "cell_type": "markdown",
   "id": "303e256d",
   "metadata": {},
   "source": [
    "To check the R^2 value, call the model's `.score()` method after fitting it. This is the only built-in diagnostic."
   ]
  },
  {
   "cell_type": "code",
   "execution_count": 9,
   "id": "b2c97375",
   "metadata": {},
   "outputs": [
    {
     "data": {
      "text/plain": [
       "0.8107607250154572"
      ]
     },
     "execution_count": 9,
     "metadata": {},
     "output_type": "execute_result"
    }
   ],
   "source": [
    "ols_model.score(X, y)"
   ]
  },
  {
   "cell_type": "markdown",
   "id": "f2eba52d",
   "metadata": {},
   "source": [
    "### Spatial regressions: Error model\n",
    "\n",
    "Next, we'll run all the possible spatial regressions available in `spreg.sklearn`, beginning with a spatial error model. Note the presence of the weights matrix in the object instantiation -- this is required to fit the model."
   ]
  },
  {
   "cell_type": "code",
   "execution_count": 10,
   "id": "00e9aa5b",
   "metadata": {},
   "outputs": [],
   "source": [
    "err_model = spreg.sklearn.Error(w=weights)\n",
    "err_model = err_model.fit(X, y)"
   ]
  },
  {
   "cell_type": "markdown",
   "id": "4f01090a",
   "metadata": {},
   "source": [
    "Again, to examine the parameters print `coef_` and to examine the intercept print `intercept_`. To examine the indirect effects, print `indir_coef_`."
   ]
  },
  {
   "cell_type": "code",
   "execution_count": 11,
   "id": "28062f1a",
   "metadata": {},
   "outputs": [
    {
     "name": "stdout",
     "output_type": "stream",
     "text": [
      "[[ 7.35518789e-03 -4.29865582e-04 -2.01115335e-01  6.82775895e-02\n",
      "  -3.30976455e-04 -1.93652568e-02  4.54408304e-01 -3.26286654e-01\n",
      "  -9.68431974e-03  3.51130376e-04  9.19896937e-05  1.88358318e-02\n",
      "  -5.96219120e-03]]\n",
      "[4.23116733]\n",
      "0.043531061038302975\n"
     ]
    }
   ],
   "source": [
    "print(err_model.coef_)\n",
    "print(err_model.intercept_)\n",
    "print(err_model.indir_coef_)"
   ]
  },
  {
   "cell_type": "markdown",
   "id": "15f15e73",
   "metadata": {},
   "source": [
    "The `.score()` method works as expected here."
   ]
  },
  {
   "cell_type": "code",
   "execution_count": 12,
   "id": "13c8c208",
   "metadata": {},
   "outputs": [
    {
     "data": {
      "text/plain": [
       "0.7939041691190455"
      ]
     },
     "execution_count": 12,
     "metadata": {},
     "output_type": "execute_result"
    }
   ],
   "source": [
    "err_model.score(X, y)"
   ]
  },
  {
   "cell_type": "markdown",
   "id": "d8ad6d5d",
   "metadata": {},
   "source": [
    "### Spatial regressions: Lag model\n",
    "\n",
    "The lag model has the same interface as the error model."
   ]
  },
  {
   "cell_type": "code",
   "execution_count": 13,
   "id": "aefac7ad",
   "metadata": {},
   "outputs": [],
   "source": [
    "lag_model = spreg.sklearn.Lag(w=weights)\n",
    "lag_model = lag_model.fit(X, y)"
   ]
  },
  {
   "cell_type": "code",
   "execution_count": 14,
   "id": "313aa4ce",
   "metadata": {},
   "outputs": [
    {
     "name": "stdout",
     "output_type": "stream",
     "text": [
      "[[ 6.14339339e-03  2.26105887e-04 -1.84181072e-01  9.31509417e-02\n",
      "  -4.55771906e-04 -2.95346123e-02  3.50112238e-01 -3.76173848e-01\n",
      "  -1.18480437e-02  1.56371840e-05  4.55785100e-04  9.39152867e-02\n",
      "  -6.23001773e-03]]\n",
      "[4.60421033]\n",
      "[-0.00114406]\n"
     ]
    }
   ],
   "source": [
    "print(lag_model.coef_)\n",
    "print(lag_model.intercept_)\n",
    "print(lag_model.indir_coef_)"
   ]
  },
  {
   "cell_type": "code",
   "execution_count": 15,
   "id": "95b096a2",
   "metadata": {},
   "outputs": [
    {
     "data": {
      "text/plain": [
       "-121.92725153377661"
      ]
     },
     "execution_count": 15,
     "metadata": {},
     "output_type": "execute_result"
    }
   ],
   "source": [
    "lag_model.score(X, y)"
   ]
  },
  {
   "cell_type": "markdown",
   "id": "b01f60ed",
   "metadata": {},
   "source": [
    "### Spatial regressions: Durbin Error and Durbin Lag\n",
    "\n",
    "The module also supports spatial Durbin error models and spatial Durbin lag models, which are error and lag models with spatial lags of the covariates included as well. The `coef_` vector is divided in two halves: the first half are all coefficients on the covariates and the second half are coefficients on the spatial lags of the covariates. The `indir_coef_` attribute remains the error or lag indirect effect."
   ]
  },
  {
   "cell_type": "code",
   "execution_count": 16,
   "id": "c677cd2c",
   "metadata": {},
   "outputs": [],
   "source": [
    "dbe_model = spreg.sklearn.DurbinError(w=weights)\n",
    "dbe_model = dbe_model.fit(X, y)"
   ]
  },
  {
   "cell_type": "code",
   "execution_count": 17,
   "id": "61d41c48",
   "metadata": {},
   "outputs": [
    {
     "name": "stdout",
     "output_type": "stream",
     "text": [
      "[[ 8.51885468e-03 -9.61319168e-04 -4.12041576e-01  6.87692073e-02\n",
      "  -2.81978574e-04 -1.72741360e-02  5.72547711e-01 -2.69245303e-01\n",
      "  -9.61636677e-03  4.74330756e-04 -2.20825206e-04 -2.45514753e-02\n",
      "  -6.10933997e-03 -3.57772248e-04  3.62730121e-04  3.89050178e-03\n",
      "  -3.09197285e-03  7.47221776e-05  1.99356216e-03 -8.94792392e-02\n",
      "  -1.71317209e-02 -2.40675467e-03  4.18407571e-04 -4.49576867e-04\n",
      "   3.93459651e-02 -4.08820888e-04]]\n",
      "[4.45921256]\n",
      "0.05252081690832469\n"
     ]
    }
   ],
   "source": [
    "print(dbe_model.coef_)\n",
    "print(dbe_model.intercept_)\n",
    "print(dbe_model.indir_coef_)"
   ]
  },
  {
   "cell_type": "code",
   "execution_count": 18,
   "id": "f361f24d",
   "metadata": {},
   "outputs": [
    {
     "data": {
      "text/plain": [
       "0.8146699049031848"
      ]
     },
     "execution_count": 18,
     "metadata": {},
     "output_type": "execute_result"
    }
   ],
   "source": [
    "dbe_model.score(X, y)"
   ]
  },
  {
   "cell_type": "code",
   "execution_count": 19,
   "id": "bd285e49",
   "metadata": {},
   "outputs": [],
   "source": [
    "dbl_model = spreg.sklearn.DurbinLag(w=weights)\n",
    "dbl_model = dbl_model.fit(X, y)"
   ]
  },
  {
   "cell_type": "code",
   "execution_count": 20,
   "id": "3d13197b",
   "metadata": {},
   "outputs": [
    {
     "name": "stdout",
     "output_type": "stream",
     "text": [
      "[[ 7.75931400e-03 -8.85986639e-04 -4.41425611e-01  6.42999863e-02\n",
      "  -2.58947268e-04 -1.95120176e-02  5.55489850e-01 -2.83361306e-01\n",
      "  -9.41170489e-03  7.20905407e-04  1.26453644e-03 -3.16009229e-02\n",
      "  -7.33345485e-03 -1.89275246e-03  4.40414080e-04  1.81035813e-02\n",
      "  -9.16128156e-04  8.44565903e-05 -2.31942559e-04 -8.43331238e-02\n",
      "  -1.37801401e-02 -1.85738593e-03  2.16608095e-04 -1.18221640e-03\n",
      "   3.11502856e-02 -6.05074684e-05]]\n",
      "[4.6268752]\n",
      "[0.0203128]\n"
     ]
    }
   ],
   "source": [
    "print(dbl_model.coef_)\n",
    "print(dbl_model.intercept_)\n",
    "print(dbl_model.indir_coef_)"
   ]
  },
  {
   "cell_type": "code",
   "execution_count": 21,
   "id": "e8399f59",
   "metadata": {},
   "outputs": [
    {
     "ename": "ValueError",
     "evalue": "X has 26 features, but DurbinLag is expecting 13 features as input.",
     "output_type": "error",
     "traceback": [
      "\u001b[0;31m---------------------------------------------------------------------------\u001b[0m",
      "\u001b[0;31mValueError\u001b[0m                                Traceback (most recent call last)",
      "\u001b[0;32m<ipython-input-21-1cd06c75253a>\u001b[0m in \u001b[0;36m<module>\u001b[0;34m\u001b[0m\n\u001b[0;32m----> 1\u001b[0;31m \u001b[0mdbl_model\u001b[0m\u001b[0;34m.\u001b[0m\u001b[0mscore\u001b[0m\u001b[0;34m(\u001b[0m\u001b[0mX\u001b[0m\u001b[0;34m,\u001b[0m \u001b[0my\u001b[0m\u001b[0;34m)\u001b[0m\u001b[0;34m\u001b[0m\u001b[0;34m\u001b[0m\u001b[0m\n\u001b[0m",
      "\u001b[0;32m/mnt/c/Users/tyler/OneDrive/Documents/research/spreg/spreg/sklearn/durbin.py\u001b[0m in \u001b[0;36mscore\u001b[0;34m(self, X, y, sample_weight)\u001b[0m\n\u001b[1;32m     33\u001b[0m \u001b[0;34m\u001b[0m\u001b[0m\n\u001b[1;32m     34\u001b[0m         \u001b[0mX\u001b[0m \u001b[0;34m=\u001b[0m \u001b[0mnp\u001b[0m\u001b[0;34m.\u001b[0m\u001b[0mhstack\u001b[0m\u001b[0;34m(\u001b[0m\u001b[0;34m(\u001b[0m\u001b[0mX\u001b[0m\u001b[0;34m,\u001b[0m \u001b[0mself\u001b[0m\u001b[0;34m.\u001b[0m\u001b[0mw\u001b[0m\u001b[0;34m.\u001b[0m\u001b[0mfull\u001b[0m\u001b[0;34m(\u001b[0m\u001b[0;34m)\u001b[0m\u001b[0;34m[\u001b[0m\u001b[0;36m0\u001b[0m\u001b[0;34m]\u001b[0m \u001b[0;34m@\u001b[0m \u001b[0mX\u001b[0m\u001b[0;34m)\u001b[0m\u001b[0;34m)\u001b[0m\u001b[0;34m\u001b[0m\u001b[0;34m\u001b[0m\u001b[0m\n\u001b[0;32m---> 35\u001b[0;31m         \u001b[0;32mreturn\u001b[0m \u001b[0msuper\u001b[0m\u001b[0;34m(\u001b[0m\u001b[0;34m)\u001b[0m\u001b[0;34m.\u001b[0m\u001b[0mscore\u001b[0m\u001b[0;34m(\u001b[0m\u001b[0mX\u001b[0m\u001b[0;34m,\u001b[0m \u001b[0my\u001b[0m\u001b[0;34m,\u001b[0m \u001b[0msample_weight\u001b[0m\u001b[0;34m=\u001b[0m\u001b[0msample_weight\u001b[0m\u001b[0;34m)\u001b[0m\u001b[0;34m\u001b[0m\u001b[0;34m\u001b[0m\u001b[0m\n\u001b[0m\u001b[1;32m     36\u001b[0m \u001b[0;34m\u001b[0m\u001b[0m\n\u001b[1;32m     37\u001b[0m \u001b[0;34m\u001b[0m\u001b[0m\n",
      "\u001b[0;32m~/anaconda3/envs/gds/lib/python3.8/site-packages/sklearn/base.py\u001b[0m in \u001b[0;36mscore\u001b[0;34m(self, X, y, sample_weight)\u001b[0m\n\u001b[1;32m    551\u001b[0m \u001b[0;34m\u001b[0m\u001b[0m\n\u001b[1;32m    552\u001b[0m         \u001b[0;32mfrom\u001b[0m \u001b[0;34m.\u001b[0m\u001b[0mmetrics\u001b[0m \u001b[0;32mimport\u001b[0m \u001b[0mr2_score\u001b[0m\u001b[0;34m\u001b[0m\u001b[0;34m\u001b[0m\u001b[0m\n\u001b[0;32m--> 553\u001b[0;31m         \u001b[0my_pred\u001b[0m \u001b[0;34m=\u001b[0m \u001b[0mself\u001b[0m\u001b[0;34m.\u001b[0m\u001b[0mpredict\u001b[0m\u001b[0;34m(\u001b[0m\u001b[0mX\u001b[0m\u001b[0;34m)\u001b[0m\u001b[0;34m\u001b[0m\u001b[0;34m\u001b[0m\u001b[0m\n\u001b[0m\u001b[1;32m    554\u001b[0m         \u001b[0;32mreturn\u001b[0m \u001b[0mr2_score\u001b[0m\u001b[0;34m(\u001b[0m\u001b[0my\u001b[0m\u001b[0;34m,\u001b[0m \u001b[0my_pred\u001b[0m\u001b[0;34m,\u001b[0m \u001b[0msample_weight\u001b[0m\u001b[0;34m=\u001b[0m\u001b[0msample_weight\u001b[0m\u001b[0;34m)\u001b[0m\u001b[0;34m\u001b[0m\u001b[0;34m\u001b[0m\u001b[0m\n\u001b[1;32m    555\u001b[0m \u001b[0;34m\u001b[0m\u001b[0m\n",
      "\u001b[0;32m~/anaconda3/envs/gds/lib/python3.8/site-packages/sklearn/linear_model/_base.py\u001b[0m in \u001b[0;36mpredict\u001b[0;34m(self, X)\u001b[0m\n\u001b[1;32m    236\u001b[0m             \u001b[0mReturns\u001b[0m \u001b[0mpredicted\u001b[0m \u001b[0mvalues\u001b[0m\u001b[0;34m.\u001b[0m\u001b[0;34m\u001b[0m\u001b[0;34m\u001b[0m\u001b[0m\n\u001b[1;32m    237\u001b[0m         \"\"\"\n\u001b[0;32m--> 238\u001b[0;31m         \u001b[0;32mreturn\u001b[0m \u001b[0mself\u001b[0m\u001b[0;34m.\u001b[0m\u001b[0m_decision_function\u001b[0m\u001b[0;34m(\u001b[0m\u001b[0mX\u001b[0m\u001b[0;34m)\u001b[0m\u001b[0;34m\u001b[0m\u001b[0;34m\u001b[0m\u001b[0m\n\u001b[0m\u001b[1;32m    239\u001b[0m \u001b[0;34m\u001b[0m\u001b[0m\n\u001b[1;32m    240\u001b[0m     \u001b[0m_preprocess_data\u001b[0m \u001b[0;34m=\u001b[0m \u001b[0mstaticmethod\u001b[0m\u001b[0;34m(\u001b[0m\u001b[0m_preprocess_data\u001b[0m\u001b[0;34m)\u001b[0m\u001b[0;34m\u001b[0m\u001b[0;34m\u001b[0m\u001b[0m\n",
      "\u001b[0;32m/mnt/c/Users/tyler/OneDrive/Documents/research/spreg/spreg/sklearn/lag.py\u001b[0m in \u001b[0;36m_decision_function\u001b[0;34m(self, X)\u001b[0m\n\u001b[1;32m     27\u001b[0m         \u001b[0mcheck_is_fitted\u001b[0m\u001b[0;34m(\u001b[0m\u001b[0mself\u001b[0m\u001b[0;34m)\u001b[0m\u001b[0;34m\u001b[0m\u001b[0;34m\u001b[0m\u001b[0m\n\u001b[1;32m     28\u001b[0m \u001b[0;34m\u001b[0m\u001b[0m\n\u001b[0;32m---> 29\u001b[0;31m         \u001b[0mX\u001b[0m \u001b[0;34m=\u001b[0m \u001b[0mself\u001b[0m\u001b[0;34m.\u001b[0m\u001b[0m_validate_data\u001b[0m\u001b[0;34m(\u001b[0m\u001b[0mX\u001b[0m\u001b[0;34m,\u001b[0m \u001b[0maccept_sparse\u001b[0m\u001b[0;34m=\u001b[0m\u001b[0;32mTrue\u001b[0m\u001b[0;34m,\u001b[0m \u001b[0mreset\u001b[0m\u001b[0;34m=\u001b[0m\u001b[0;32mFalse\u001b[0m\u001b[0;34m)\u001b[0m\u001b[0;34m\u001b[0m\u001b[0;34m\u001b[0m\u001b[0m\n\u001b[0m\u001b[1;32m     30\u001b[0m         return safe_sparse_dot(\n\u001b[1;32m     31\u001b[0m             \u001b[0mnp\u001b[0m\u001b[0;34m.\u001b[0m\u001b[0mlinalg\u001b[0m\u001b[0;34m.\u001b[0m\u001b[0minv\u001b[0m\u001b[0;34m(\u001b[0m\u001b[0mnp\u001b[0m\u001b[0;34m.\u001b[0m\u001b[0meye\u001b[0m\u001b[0;34m(\u001b[0m\u001b[0mself\u001b[0m\u001b[0;34m.\u001b[0m\u001b[0mw\u001b[0m\u001b[0;34m.\u001b[0m\u001b[0mn\u001b[0m\u001b[0;34m)\u001b[0m \u001b[0;34m-\u001b[0m \u001b[0mself\u001b[0m\u001b[0;34m.\u001b[0m\u001b[0mindir_coef_\u001b[0m \u001b[0;34m*\u001b[0m \u001b[0mself\u001b[0m\u001b[0;34m.\u001b[0m\u001b[0mw\u001b[0m\u001b[0;34m.\u001b[0m\u001b[0mfull\u001b[0m\u001b[0;34m(\u001b[0m\u001b[0;34m)\u001b[0m\u001b[0;34m[\u001b[0m\u001b[0;36m0\u001b[0m\u001b[0;34m]\u001b[0m\u001b[0;34m)\u001b[0m\u001b[0;34m,\u001b[0m\u001b[0;34m\u001b[0m\u001b[0;34m\u001b[0m\u001b[0m\n",
      "\u001b[0;32m~/anaconda3/envs/gds/lib/python3.8/site-packages/sklearn/base.py\u001b[0m in \u001b[0;36m_validate_data\u001b[0;34m(self, X, y, reset, validate_separately, **check_params)\u001b[0m\n\u001b[1;32m    435\u001b[0m \u001b[0;34m\u001b[0m\u001b[0m\n\u001b[1;32m    436\u001b[0m         \u001b[0;32mif\u001b[0m \u001b[0mcheck_params\u001b[0m\u001b[0;34m.\u001b[0m\u001b[0mget\u001b[0m\u001b[0;34m(\u001b[0m\u001b[0;34m'ensure_2d'\u001b[0m\u001b[0;34m,\u001b[0m \u001b[0;32mTrue\u001b[0m\u001b[0;34m)\u001b[0m\u001b[0;34m:\u001b[0m\u001b[0;34m\u001b[0m\u001b[0;34m\u001b[0m\u001b[0m\n\u001b[0;32m--> 437\u001b[0;31m             \u001b[0mself\u001b[0m\u001b[0;34m.\u001b[0m\u001b[0m_check_n_features\u001b[0m\u001b[0;34m(\u001b[0m\u001b[0mX\u001b[0m\u001b[0;34m,\u001b[0m \u001b[0mreset\u001b[0m\u001b[0;34m=\u001b[0m\u001b[0mreset\u001b[0m\u001b[0;34m)\u001b[0m\u001b[0;34m\u001b[0m\u001b[0;34m\u001b[0m\u001b[0m\n\u001b[0m\u001b[1;32m    438\u001b[0m \u001b[0;34m\u001b[0m\u001b[0m\n\u001b[1;32m    439\u001b[0m         \u001b[0;32mreturn\u001b[0m \u001b[0mout\u001b[0m\u001b[0;34m\u001b[0m\u001b[0;34m\u001b[0m\u001b[0m\n",
      "\u001b[0;32m~/anaconda3/envs/gds/lib/python3.8/site-packages/sklearn/base.py\u001b[0m in \u001b[0;36m_check_n_features\u001b[0;34m(self, X, reset)\u001b[0m\n\u001b[1;32m    363\u001b[0m \u001b[0;34m\u001b[0m\u001b[0m\n\u001b[1;32m    364\u001b[0m         \u001b[0;32mif\u001b[0m \u001b[0mn_features\u001b[0m \u001b[0;34m!=\u001b[0m \u001b[0mself\u001b[0m\u001b[0;34m.\u001b[0m\u001b[0mn_features_in_\u001b[0m\u001b[0;34m:\u001b[0m\u001b[0;34m\u001b[0m\u001b[0;34m\u001b[0m\u001b[0m\n\u001b[0;32m--> 365\u001b[0;31m             raise ValueError(\n\u001b[0m\u001b[1;32m    366\u001b[0m                 \u001b[0;34mf\"X has {n_features} features, but {self.__class__.__name__} \"\u001b[0m\u001b[0;34m\u001b[0m\u001b[0;34m\u001b[0m\u001b[0m\n\u001b[1;32m    367\u001b[0m                 f\"is expecting {self.n_features_in_} features as input.\")\n",
      "\u001b[0;31mValueError\u001b[0m: X has 26 features, but DurbinLag is expecting 13 features as input."
     ]
    }
   ],
   "source": [
    "dbl_model.score(X, y)"
   ]
  },
  {
   "cell_type": "markdown",
   "id": "3f47156f",
   "metadata": {},
   "source": [
    "## Formulas\n",
    "\n",
    "Finally, the formula parser works for the `scikit-learn` models as well -- just be sure to use `spreg.sklearn.from_formula()`, not `spreg.from_formula()`. The behavior is the same (refer to `formula_example.ipynb` in this directory for more info), but does not accept combinations of spatial error and spatial lag of y models or skedastic errors. These have been intentionally left unimplemented in `spreg.sklearn` to streamline this submodule."
   ]
  }
 ],
 "metadata": {
  "kernelspec": {
   "display_name": "Python 3",
   "language": "python",
   "name": "python3"
  },
  "language_info": {
   "codemirror_mode": {
    "name": "ipython",
    "version": 3
   },
   "file_extension": ".py",
   "mimetype": "text/x-python",
   "name": "python",
   "nbconvert_exporter": "python",
   "pygments_lexer": "ipython3",
   "version": "3.8.10"
  }
 },
 "nbformat": 4,
 "nbformat_minor": 5
}
