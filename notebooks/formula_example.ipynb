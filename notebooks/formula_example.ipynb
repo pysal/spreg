{
 "cells": [
  {
   "cell_type": "markdown",
   "id": "98555126",
   "metadata": {},
   "source": [
    "## Imports"
   ]
  },
  {
   "cell_type": "code",
   "execution_count": 1,
   "id": "6f35de7f",
   "metadata": {},
   "outputs": [
    {
     "ename": "ModuleNotFoundError",
     "evalue": "No module named 'spreg'",
     "output_type": "error",
     "traceback": [
      "\u001b[0;31m---------------------------------------------------------------------------\u001b[0m",
      "\u001b[0;31mModuleNotFoundError\u001b[0m                       Traceback (most recent call last)",
      "Input \u001b[0;32mIn [1]\u001b[0m, in \u001b[0;36m<cell line: 1>\u001b[0;34m()\u001b[0m\n\u001b[0;32m----> 1\u001b[0m \u001b[38;5;28;01mimport\u001b[39;00m \u001b[38;5;21;01mspreg\u001b[39;00m\n\u001b[1;32m      2\u001b[0m \u001b[38;5;28;01mimport\u001b[39;00m \u001b[38;5;21;01mnumpy\u001b[39;00m \u001b[38;5;28;01mas\u001b[39;00m \u001b[38;5;21;01mnp\u001b[39;00m\n\u001b[1;32m      3\u001b[0m \u001b[38;5;28;01mimport\u001b[39;00m \u001b[38;5;21;01mpandas\u001b[39;00m \u001b[38;5;28;01mas\u001b[39;00m \u001b[38;5;21;01mpd\u001b[39;00m\n",
      "\u001b[0;31mModuleNotFoundError\u001b[0m: No module named 'spreg'"
     ]
    }
   ],
   "source": [
    "import spreg\n",
    "import numpy as np\n",
    "import pandas as pd\n",
    "import geopandas as gpd\n",
    "from libpysal.examples import load_example\n",
    "from libpysal.weights import Kernel, fill_diagonal"
   ]
  },
  {
   "cell_type": "markdown",
   "id": "3606a586",
   "metadata": {},
   "source": [
    "## Load data (Boston example)"
   ]
  },
  {
   "cell_type": "code",
   "execution_count": 2,
   "id": "65d05991",
   "metadata": {},
   "outputs": [
    {
     "ename": "NameError",
     "evalue": "name 'load_example' is not defined",
     "output_type": "error",
     "traceback": [
      "\u001b[0;31m---------------------------------------------------------------------------\u001b[0m",
      "\u001b[0;31mNameError\u001b[0m                                 Traceback (most recent call last)",
      "Input \u001b[0;32mIn [2]\u001b[0m, in \u001b[0;36m<cell line: 1>\u001b[0;34m()\u001b[0m\n\u001b[0;32m----> 1\u001b[0m boston \u001b[38;5;241m=\u001b[39m \u001b[43mload_example\u001b[49m(\u001b[38;5;124m\"\u001b[39m\u001b[38;5;124mBostonhsg\u001b[39m\u001b[38;5;124m\"\u001b[39m)\n\u001b[1;32m      2\u001b[0m boston_df \u001b[38;5;241m=\u001b[39m gpd\u001b[38;5;241m.\u001b[39mread_file(boston\u001b[38;5;241m.\u001b[39mget_path(\u001b[38;5;124m\"\u001b[39m\u001b[38;5;124mboston.shp\u001b[39m\u001b[38;5;124m\"\u001b[39m))\n",
      "\u001b[0;31mNameError\u001b[0m: name 'load_example' is not defined"
     ]
    }
   ],
   "source": [
    "boston = load_example(\"Bostonhsg\")\n",
    "boston_df = gpd.read_file(boston.get_path(\"boston.shp\"))"
   ]
  },
  {
   "cell_type": "markdown",
   "id": "ce3c8899",
   "metadata": {},
   "source": [
    "### Manually transform data and set up model matrices"
   ]
  },
  {
   "cell_type": "code",
   "execution_count": 3,
   "id": "05177258",
   "metadata": {},
   "outputs": [
    {
     "ename": "NameError",
     "evalue": "name 'boston_df' is not defined",
     "output_type": "error",
     "traceback": [
      "\u001b[0;31m---------------------------------------------------------------------------\u001b[0m",
      "\u001b[0;31mNameError\u001b[0m                                 Traceback (most recent call last)",
      "Input \u001b[0;32mIn [3]\u001b[0m, in \u001b[0;36m<cell line: 1>\u001b[0;34m()\u001b[0m\n\u001b[0;32m----> 1\u001b[0m boston_df[\u001b[38;5;124m\"\u001b[39m\u001b[38;5;124mNOXSQ\u001b[39m\u001b[38;5;124m\"\u001b[39m] \u001b[38;5;241m=\u001b[39m (\u001b[38;5;241m10\u001b[39m \u001b[38;5;241m*\u001b[39m \u001b[43mboston_df\u001b[49m[\u001b[38;5;124m\"\u001b[39m\u001b[38;5;124mNOX\u001b[39m\u001b[38;5;124m\"\u001b[39m])\u001b[38;5;241m*\u001b[39m\u001b[38;5;241m*\u001b[39m\u001b[38;5;241m2\u001b[39m\n\u001b[1;32m      2\u001b[0m boston_df[\u001b[38;5;124m\"\u001b[39m\u001b[38;5;124mRMSQ\u001b[39m\u001b[38;5;124m\"\u001b[39m] \u001b[38;5;241m=\u001b[39m boston_df[\u001b[38;5;124m\"\u001b[39m\u001b[38;5;124mRM\u001b[39m\u001b[38;5;124m\"\u001b[39m]\u001b[38;5;241m*\u001b[39m\u001b[38;5;241m*\u001b[39m\u001b[38;5;241m2\u001b[39m\n\u001b[1;32m      3\u001b[0m boston_df[\u001b[38;5;124m\"\u001b[39m\u001b[38;5;124mLOGDIS\u001b[39m\u001b[38;5;124m\"\u001b[39m] \u001b[38;5;241m=\u001b[39m np\u001b[38;5;241m.\u001b[39mlog(boston_df[\u001b[38;5;124m\"\u001b[39m\u001b[38;5;124mDIS\u001b[39m\u001b[38;5;124m\"\u001b[39m]\u001b[38;5;241m.\u001b[39mvalues)\n",
      "\u001b[0;31mNameError\u001b[0m: name 'boston_df' is not defined"
     ]
    }
   ],
   "source": [
    "boston_df[\"NOXSQ\"] = (10 * boston_df[\"NOX\"])**2\n",
    "boston_df[\"RMSQ\"] = boston_df[\"RM\"]**2\n",
    "boston_df[\"LOGDIS\"] = np.log(boston_df[\"DIS\"].values)\n",
    "boston_df[\"LOGRAD\"] = np.log(boston_df[\"RAD\"].values)\n",
    "boston_df[\"TRANSB\"] = boston_df[\"B\"].values / 1000\n",
    "boston_df[\"LOGSTAT\"] = np.log(boston_df[\"LSTAT\"].values)\n",
    "\n",
    "fields = [\"RMSQ\", \"AGE\", \"LOGDIS\", \"LOGRAD\", \"TAX\", \"PTRATIO\",\n",
    "          \"TRANSB\", \"LOGSTAT\", \"CRIM\", \"ZN\", \"INDUS\", \"CHAS\", \"NOXSQ\"]\n",
    "X = boston_df[fields].values\n",
    "y = np.log(boston_df[\"CMEDV\"].values)  # predict log corrected median house prices from covars"
   ]
  },
  {
   "cell_type": "markdown",
   "id": "4556a624",
   "metadata": {},
   "source": [
    "### Make weights matrix and set diagonal to 0 (necessary for lag model)"
   ]
  },
  {
   "cell_type": "code",
   "execution_count": null,
   "id": "0ff44981",
   "metadata": {},
   "outputs": [],
   "source": [
    "weights = Kernel(boston_df[[\"x\", \"y\"]], k=50, fixed=False)\n",
    "weights = fill_diagonal(weights, 0)"
   ]
  },
  {
   "cell_type": "markdown",
   "id": "d80f1f63",
   "metadata": {},
   "source": [
    "## Test the formulas"
   ]
  },
  {
   "cell_type": "code",
   "execution_count": null,
   "id": "f09e99d3",
   "metadata": {},
   "outputs": [],
   "source": [
    "# Original OLS model, manually transformed fields\n",
    "formula = \"log(CMEDV) ~ RMSQ + AGE + LOGDIS + LOGRAD + TAX + PTRATIO + TRANSB\" + \\\n",
    "          \" + LOGSTAT + CRIM + ZN + INDUS + CHAS + NOXSQ\"\n",
    "model, parsed_formula = spreg.from_formula(formula, boston_df, debug=True,\n",
    "                                           name_y=\"CMEDV\", name_x=fields)\n",
    "print(type(model))\n",
    "print(parsed_formula)\n",
    "print(model.summary)\n",
    "    \n",
    "# OLS model, fields transformed using formulaic\n",
    "formula = \"log(CMEDV) ~ {RM**2} + AGE + log(DIS) + log(RAD) + TAX + PTRATIO\" + \\\n",
    "          \" + {B/1000} + log(LSTAT) + CRIM + ZN + INDUS + CHAS + {(10*NOX)**2}\"\n",
    "model, parsed_formula = spreg.from_formula(formula, boston_df, debug=True,\n",
    "                                           name_y=\"CMEDV\", name_x=fields)\n",
    "print(type(model))\n",
    "print(parsed_formula)\n",
    "print(model.summary)\n",
    "\n",
    "# SLX model\n",
    "# note that type(model) == spreg.OLS as SLX is just smoothing covars\n",
    "formula = \"log(CMEDV) ~ {RM**2} + AGE + log(RAD) + TAX + PTRATIO\" + \\\n",
    "          \" + {B/1000} + log(LSTAT) + <CRIM + ZN + INDUS + CHAS> + {(10*NOX)**2}\"\n",
    "model, parsed_formula = spreg.from_formula(formula, boston_df, w=weights, debug=True)\n",
    "print(type(model))\n",
    "print(parsed_formula)\n",
    "print(model.summary)\n",
    "\n",
    "# SLY model\n",
    "formula = \"log(CMEDV) ~ {RM**2} + AGE + <log(CMEDV)>\"\n",
    "model, parsed_formula = spreg.from_formula(formula, boston_df, w=weights, debug=True)\n",
    "print(type(model))\n",
    "print(parsed_formula)\n",
    "print(model.summary)\n",
    "\n",
    "# Error model\n",
    "formula = \"log(CMEDV) ~ {RM**2} + AGE + TAX + PTRATIO + {B/1000}\" + \\\n",
    "          \" + log(LSTAT) + CRIM + ZN + INDUS + CHAS + {(10*NOX)**2} + &\"\n",
    "model, parsed_formula = spreg.from_formula(formula, boston_df, w=weights, debug=True)\n",
    "print(type(model))\n",
    "print(parsed_formula)\n",
    "print(model.summary)\n",
    "\n",
    "# Error model with ML estimation\n",
    "formula = \"log(CMEDV) ~ {RM**2} + AGE + TAX + PTRATIO + {B/1000}\" + \\\n",
    "          \" + log(LSTAT) + CRIM + ZN + INDUS + CHAS + {(10*NOX)**2} + &\"\n",
    "model, parsed_formula = spreg.from_formula(formula, boston_df, method=\"full\",\n",
    "                                           w=weights, debug=True)\n",
    "print(type(model))\n",
    "print(parsed_formula)\n",
    "print(model.summary)"
   ]
  }
 ],
 "metadata": {
  "kernelspec": {
   "display_name": "Python 3 (ipykernel)",
   "language": "python",
   "name": "python3"
  },
  "language_info": {
   "codemirror_mode": {
    "name": "ipython",
    "version": 3
   },
   "file_extension": ".py",
   "mimetype": "text/x-python",
   "name": "python",
   "nbconvert_exporter": "python",
   "pygments_lexer": "ipython3",
   "version": "3.9.13"
  }
 },
 "nbformat": 4,
 "nbformat_minor": 5
}
