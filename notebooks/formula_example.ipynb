{
 "cells": [
  {
   "cell_type": "markdown",
   "id": "b2702349",
   "metadata": {},
   "source": [
    "# Spatial Regression Formula Demo\n",
    "\n",
    "**By Tyler D. Hoffman**\n",
    "\n",
    "This notebook demonstrates the syntax and usage of formula notation for spatial and nonspatial regression models in `spreg`. The formula notation allows users to express their (spatial) regressions in an organic manner akin to the way they might write them down mathematically. Additionally, the formula syntax handles preprocessing natively, potentially saving many lines of code."
   ]
  },
  {
   "cell_type": "markdown",
   "id": "98555126",
   "metadata": {},
   "source": [
    "## Imports"
   ]
  },
  {
   "cell_type": "code",
   "execution_count": 1,
   "id": "f483674a",
   "metadata": {},
   "outputs": [],
   "source": [
    "import os\n",
    "os.chdir(\"..\")  # make sure to run the notebook in spreg/, not spreg/notebooks"
   ]
  },
  {
   "cell_type": "code",
   "execution_count": 2,
   "id": "6f35de7f",
   "metadata": {},
   "outputs": [],
   "source": [
    "import spreg\n",
    "import numpy as np\n",
    "import pandas as pd\n",
    "import geopandas as gpd\n",
    "from libpysal.examples import load_example\n",
    "from libpysal.weights import Kernel, fill_diagonal"
   ]
  },
  {
   "cell_type": "markdown",
   "id": "3606a586",
   "metadata": {},
   "source": [
    "## Load data \n",
    "\n",
    "We'll use the Boston housing example for this demonstration."
   ]
  },
  {
   "cell_type": "code",
   "execution_count": 3,
   "id": "65d05991",
   "metadata": {},
   "outputs": [
    {
     "name": "stdout",
     "output_type": "stream",
     "text": [
      "Example not available: Bostonhsg\n",
      "Example not downloaded: Chicago parcels\n",
      "Example not downloaded: Chile Migration\n",
      "Example not downloaded: Spirals\n"
     ]
    }
   ],
   "source": [
    "boston = load_example(\"Bostonhsg\")\n",
    "boston_df = gpd.read_file(boston.get_path(\"boston.shp\"))"
   ]
  },
  {
   "cell_type": "markdown",
   "id": "4556a624",
   "metadata": {},
   "source": [
    "### Make weights matrix \n",
    "\n",
    "We'll use a kernel weights matrix. We also set the diagonal of the weights matrix to 0 (necessary for lag model)."
   ]
  },
  {
   "cell_type": "code",
   "execution_count": 4,
   "id": "0ff44981",
   "metadata": {},
   "outputs": [],
   "source": [
    "weights = Kernel(boston_df[[\"x\", \"y\"]], k=50, fixed=False)\n",
    "weights = fill_diagonal(weights, 0)"
   ]
  },
  {
   "cell_type": "markdown",
   "id": "d80f1f63",
   "metadata": {},
   "source": [
    "## Test the formulas\n",
    "\n",
    "The function signature is:\n",
    "\n",
    "```python\n",
    "spreg.from_formula(formula, df, w=None, method=\"gm\", skedastic=None, debug=False, **kwargs)\n",
    "```\n",
    "\n",
    "where:\n",
    "\n",
    "- `formula` is a string following formulaic's syntax and the below additional syntax\n",
    "- `df` is a `pandas.DataFrame` or `geopandas.GeoDataFrame`\n",
    "- `w` is a `libpysal.weights.W` object\n",
    "- `method` is a string describing the estimation method (for spatial lag or error models)\n",
    "- `skedastic` is a string specifying the form of skedasticity in an error term (if at all)\n",
    "- `debug` is a boolean which (when true) outputs the parsed formula alongside the configured model\n",
    "- `**kwargs` are additional arguments to be passed to the model class.\n",
    "\n",
    "The new formula syntax comes in two parts:\n",
    "\n",
    "- The `<...>` operator:\n",
    "  - Enclose variables (covariates or response) in angle brackets to denote a spatial lag.\n",
    "  - `<` and `>` are not reserved characters in `formulaic` (the underlying formula parsing library), so there are no conflicts.\n",
    "  - **Usage:** include `<FIELD>` as a term in a formula string to add that field and its spatial lag field from the dataframe to model matrix.\n",
    "  - Can use other transformations within `<...>`, e.g. `<{10*FIELD1} + FIELD2>` will be correctly parsed.\n",
    "- The `&` symbol:\n",
    "  - Adds a spatial error component to a model.\n",
    "  - `&` is not a reserved character in formulaic, so there are no conflicts.\n",
    "  - **Usage:** include `&` as a term in a formula string to introduce a spatial error component in a model.\n",
    "\n",
    "The parser accepts combinations of `<...>` and `&`: `<FIELD1 + ... + FIELDN> + &` is the most general possible spatial model available. Additionally, any transformations from [`formulaic`'s grammar](https://matthewwardrop.github.io/formulaic/concepts/grammar/) are admissible anywhere in the formula string.\n",
    "\n",
    "Variable names do not need to be provided separately to the model classes (i.e., through the `name_x` and `name_y` keyword arguments) as they can be automatically detected from the formula string. Variables which read ``w.sparse @ `FIELD` `` are the spatial lags of those fields (future TODO: make this prettier)."
   ]
  },
  {
   "cell_type": "markdown",
   "id": "0deccef7",
   "metadata": {},
   "source": [
    "### Default `spreg.OLS` usage\n",
    "\n",
    "For comparison, we'll begin with showing how one would run this model using `spreg.OLS`. These variable transformations are inspired by the original paper (Harrison and Rubinfeld, 1978)."
   ]
  },
  {
   "cell_type": "code",
   "execution_count": 5,
   "id": "05177258",
   "metadata": {},
   "outputs": [],
   "source": [
    "boston_df[\"NOXSQ\"] = (10 * boston_df[\"NOX\"])**2\n",
    "boston_df[\"RMSQ\"] = boston_df[\"RM\"]**2\n",
    "boston_df[\"LOGDIS\"] = np.log(boston_df[\"DIS\"].values)\n",
    "boston_df[\"LOGRAD\"] = np.log(boston_df[\"RAD\"].values)\n",
    "boston_df[\"TRANSB\"] = boston_df[\"B\"].values / 1000\n",
    "boston_df[\"LOGSTAT\"] = np.log(boston_df[\"LSTAT\"].values)\n",
    "boston_df[\"LCMEDV\"] = np.log(boston_df[\"CMEDV\"].values)\n",
    "\n",
    "fields = [\"RMSQ\", \"AGE\", \"LOGDIS\", \"LOGRAD\", \"TAX\", \"PTRATIO\",\n",
    "          \"TRANSB\", \"LOGSTAT\", \"CRIM\", \"ZN\", \"INDUS\", \"CHAS\", \"NOXSQ\"]\n",
    "X = boston_df[fields].values\n",
    "y = boston_df[\"LCMEDV\"].values  # predict log corrected median house prices from covars"
   ]
  },
  {
   "cell_type": "code",
   "execution_count": 6,
   "id": "57cdb0b2",
   "metadata": {},
   "outputs": [
    {
     "name": "stdout",
     "output_type": "stream",
     "text": [
      "REGRESSION\n",
      "----------\n",
      "SUMMARY OF OUTPUT: ORDINARY LEAST SQUARES\n",
      "-----------------------------------------\n",
      "Data set            :     unknown\n",
      "Weights matrix      :        None\n",
      "Dependent Variable  :      LCMEDV                Number of Observations:         506\n",
      "Mean dependent var  :      3.0346                Number of Variables   :          14\n",
      "S.D. dependent var  :      0.4083                Degrees of Freedom    :         492\n",
      "R-squared           :      0.8108\n",
      "Adjusted R-squared  :      0.8058\n",
      "Sum squared residual:      15.930                F-statistic           :    162.1449\n",
      "Sigma-square        :       0.032                Prob(F-statistic)     :  2.334e-168\n",
      "S.E. of regression  :       0.180                Log likelihood        :     156.980\n",
      "Sigma-square ML     :       0.031                Akaike info criterion :    -285.960\n",
      "S.E of regression ML:      0.1774                Schwarz criterion     :    -226.788\n",
      "\n",
      "------------------------------------------------------------------------------------\n",
      "            Variable     Coefficient       Std.Error     t-Statistic     Probability\n",
      "------------------------------------------------------------------------------------\n",
      "            CONSTANT       4.5624911       0.1523117      29.9549546       0.0000000\n",
      "                RMSQ       0.0062549       0.0012942       4.8331669       0.0000018\n",
      "                 AGE       0.0000710       0.0005190       0.1367811       0.8912598\n",
      "              LOGDIS      -0.1978390       0.0329320      -6.0074999       0.0000000\n",
      "              LOGRAD       0.0895656       0.0188704       4.7463627       0.0000027\n",
      "                 TAX      -0.0004191       0.0001210      -3.4639788       0.0005787\n",
      "             PTRATIO      -0.0295985       0.0049441      -5.9866040       0.0000000\n",
      "              TRANSB       0.3610951       0.1016942       3.5507918       0.0004210\n",
      "             LOGSTAT      -0.3748952       0.0246647     -15.1996654       0.0000000\n",
      "                CRIM      -0.0117721       0.0012275      -9.5901004       0.0000000\n",
      "                  ZN       0.0000917       0.0004986       0.1838787       0.8541844\n",
      "               INDUS       0.0001790       0.0023310       0.0767722       0.9388360\n",
      "                CHAS       0.0921277       0.0327445       2.8135314       0.0050962\n",
      "               NOXSQ      -0.0063726       0.0011158      -5.7110804       0.0000000\n",
      "------------------------------------------------------------------------------------\n",
      "\n",
      "REGRESSION DIAGNOSTICS\n",
      "MULTICOLLINEARITY CONDITION NUMBER           68.275\n",
      "\n",
      "TEST ON NORMALITY OF ERRORS\n",
      "TEST                             DF        VALUE           PROB\n",
      "Jarque-Bera                       2         196.027           0.0000\n",
      "\n",
      "DIAGNOSTICS FOR HETEROSKEDASTICITY\n",
      "RANDOM COEFFICIENTS\n",
      "TEST                             DF        VALUE           PROB\n",
      "Breusch-Pagan test               13         213.182           0.0000\n",
      "Koenker-Bassett test             13          84.444           0.0000\n",
      "================================ END OF REPORT =====================================\n"
     ]
    }
   ],
   "source": [
    "model = spreg.OLS(y, X, name_y=\"LCMEDV\", name_x=fields)\n",
    "print(model.summary)"
   ]
  },
  {
   "cell_type": "markdown",
   "id": "a80b712b",
   "metadata": {},
   "source": [
    "### OLS Model with manually transformed fields\n",
    "\n",
    "This demonstrates the basic use case of `spreg.from_formula`: to configure and run a regression model. Here, there are no spatial terms and all the fields used are directly available from the underlying dataframe. Additionally, this demonstrates how to pass keyword arguments from the `from_formula` call to underlying models: the `robust` argument is passed to the OLS model and appears in the outputted summary. "
   ]
  },
  {
   "cell_type": "code",
   "execution_count": 7,
   "id": "f09e99d3",
   "metadata": {},
   "outputs": [
    {
     "name": "stdout",
     "output_type": "stream",
     "text": [
      "REGRESSION\n",
      "----------\n",
      "SUMMARY OF OUTPUT: ORDINARY LEAST SQUARES\n",
      "-----------------------------------------\n",
      "Data set            :     unknown\n",
      "Weights matrix      :        None\n",
      "Dependent Variable  :      LCMEDV                Number of Observations:         506\n",
      "Mean dependent var  :      3.0346                Number of Variables   :          14\n",
      "S.D. dependent var  :      0.4083                Degrees of Freedom    :         492\n",
      "R-squared           :      0.8108\n",
      "Adjusted R-squared  :      0.8058\n",
      "Sum squared residual:      15.930                F-statistic           :    162.1449\n",
      "Sigma-square        :       0.032                Prob(F-statistic)     :  2.334e-168\n",
      "S.E. of regression  :       0.180                Log likelihood        :     156.980\n",
      "Sigma-square ML     :       0.031                Akaike info criterion :    -285.960\n",
      "S.E of regression ML:      0.1774                Schwarz criterion     :    -226.788\n",
      "\n",
      "White Standard Errors\n",
      "------------------------------------------------------------------------------------\n",
      "            Variable     Coefficient       Std.Error     t-Statistic     Probability\n",
      "------------------------------------------------------------------------------------\n",
      "            CONSTANT       4.5624911       0.2030977      22.4645083       0.0000000\n",
      "                 AGE       0.0000710       0.0005751       0.1234459       0.9018044\n",
      "                CHAS       0.0921277       0.0353792       2.6040051       0.0094927\n",
      "                CRIM      -0.0117721       0.0022976      -5.1236413       0.0000004\n",
      "               INDUS       0.0001790       0.0017572       0.1018438       0.9189221\n",
      "              LOGDIS      -0.1978390       0.0386289      -5.1215323       0.0000004\n",
      "              LOGRAD       0.0895656       0.0179368       4.9933941       0.0000008\n",
      "             LOGSTAT      -0.3748952       0.0370801     -10.1104275       0.0000000\n",
      "               NOXSQ      -0.0063726       0.0012123      -5.2566550       0.0000002\n",
      "             PTRATIO      -0.0295985       0.0036788      -8.0456439       0.0000000\n",
      "                RMSQ       0.0062549       0.0019829       3.1544155       0.0017066\n",
      "                 TAX      -0.0004191       0.0001114      -3.7606980       0.0001898\n",
      "              TRANSB       0.3610951       0.1461874       2.4700843       0.0138462\n",
      "                  ZN       0.0000917       0.0003755       0.2441715       0.8071998\n",
      "------------------------------------------------------------------------------------\n",
      "\n",
      "REGRESSION DIAGNOSTICS\n",
      "MULTICOLLINEARITY CONDITION NUMBER           68.275\n",
      "\n",
      "TEST ON NORMALITY OF ERRORS\n",
      "TEST                             DF        VALUE           PROB\n",
      "Jarque-Bera                       2         196.027           0.0000\n",
      "\n",
      "DIAGNOSTICS FOR HETEROSKEDASTICITY\n",
      "RANDOM COEFFICIENTS\n",
      "TEST                             DF        VALUE           PROB\n",
      "Breusch-Pagan test               13         213.182           0.0000\n",
      "Koenker-Bassett test             13          84.444           0.0000\n",
      "================================ END OF REPORT =====================================\n"
     ]
    }
   ],
   "source": [
    "formula = \"LCMEDV ~ RMSQ + AGE + LOGDIS + LOGRAD + TAX + PTRATIO + TRANSB\" + \\\n",
    "          \" + LOGSTAT + CRIM + ZN + INDUS + CHAS + NOXSQ\"\n",
    "model = spreg.from_formula(formula, boston_df, robust=\"white\")\n",
    "print(model.summary)    "
   ]
  },
  {
   "cell_type": "markdown",
   "id": "c7f8adfb",
   "metadata": {},
   "source": [
    "### OLS model, fields transformed using formulaic\n",
    "\n",
    "This demonstrates some of the transformations that `formulaic` can do. It's the same model as the last two examples, but all the transformations are specified using `formulaic`'s grammar."
   ]
  },
  {
   "cell_type": "code",
   "execution_count": 8,
   "id": "508dafa5",
   "metadata": {},
   "outputs": [
    {
     "name": "stdout",
     "output_type": "stream",
     "text": [
      "REGRESSION\n",
      "----------\n",
      "SUMMARY OF OUTPUT: ORDINARY LEAST SQUARES\n",
      "-----------------------------------------\n",
      "Data set            :     unknown\n",
      "Weights matrix      :        None\n",
      "Dependent Variable  :  log(CMEDV)                Number of Observations:         506\n",
      "Mean dependent var  :      3.0346                Number of Variables   :          14\n",
      "S.D. dependent var  :      0.4083                Degrees of Freedom    :         492\n",
      "R-squared           :      0.8108\n",
      "Adjusted R-squared  :      0.8058\n",
      "Sum squared residual:      15.930                F-statistic           :    162.1449\n",
      "Sigma-square        :       0.032                Prob(F-statistic)     :  2.334e-168\n",
      "S.E. of regression  :       0.180                Log likelihood        :     156.980\n",
      "Sigma-square ML     :       0.031                Akaike info criterion :    -285.960\n",
      "S.E of regression ML:      0.1774                Schwarz criterion     :    -226.788\n",
      "\n",
      "------------------------------------------------------------------------------------\n",
      "            Variable     Coefficient       Std.Error     t-Statistic     Probability\n",
      "------------------------------------------------------------------------------------\n",
      "            CONSTANT       4.5624911       0.1523117      29.9549546       0.0000000\n",
      "         (10*NOX)**2      -0.0063726       0.0011158      -5.7110804       0.0000000\n",
      "                 AGE       0.0000710       0.0005190       0.1367811       0.8912598\n",
      "              B/1000       0.3610951       0.1016942       3.5507918       0.0004210\n",
      "                CHAS       0.0921277       0.0327445       2.8135314       0.0050962\n",
      "                CRIM      -0.0117721       0.0012275      -9.5901004       0.0000000\n",
      "               INDUS       0.0001790       0.0023310       0.0767722       0.9388360\n",
      "             PTRATIO      -0.0295985       0.0049441      -5.9866040       0.0000000\n",
      "               RM**2       0.0062549       0.0012942       4.8331669       0.0000018\n",
      "                 TAX      -0.0004191       0.0001210      -3.4639788       0.0005787\n",
      "                  ZN       0.0000917       0.0004986       0.1838787       0.8541844\n",
      "            log(DIS)      -0.1978390       0.0329320      -6.0074999       0.0000000\n",
      "          log(LSTAT)      -0.3748952       0.0246647     -15.1996654       0.0000000\n",
      "            log(RAD)       0.0895656       0.0188704       4.7463627       0.0000027\n",
      "------------------------------------------------------------------------------------\n",
      "\n",
      "REGRESSION DIAGNOSTICS\n",
      "MULTICOLLINEARITY CONDITION NUMBER           68.275\n",
      "\n",
      "TEST ON NORMALITY OF ERRORS\n",
      "TEST                             DF        VALUE           PROB\n",
      "Jarque-Bera                       2         196.027           0.0000\n",
      "\n",
      "DIAGNOSTICS FOR HETEROSKEDASTICITY\n",
      "RANDOM COEFFICIENTS\n",
      "TEST                             DF        VALUE           PROB\n",
      "Breusch-Pagan test               13         213.182           0.0000\n",
      "Koenker-Bassett test             13          84.444           0.0000\n",
      "================================ END OF REPORT =====================================\n"
     ]
    }
   ],
   "source": [
    "formula = \"log(CMEDV) ~ {RM**2} + AGE + log(DIS) + log(RAD) + TAX + PTRATIO\" + \\\n",
    "          \" + {B/1000} + log(LSTAT) + CRIM + ZN + INDUS + CHAS + {(10*NOX)**2}\"\n",
    "model = spreg.from_formula(formula, boston_df)\n",
    "print(model.summary)"
   ]
  },
  {
   "cell_type": "markdown",
   "id": "2bf02ca8",
   "metadata": {},
   "source": [
    "### SLX model\n",
    "\n",
    "Note that the outputted model is `spreg.OLS`, as SLX simply includes the covariates. This also demonstrates the usage of the `debug=True` flag: to view the resulting formula after spatial preprocessing. We'll keep this on for the rest of the demo to give a peek under the hood."
   ]
  },
  {
   "cell_type": "code",
   "execution_count": 9,
   "id": "974b34d5",
   "metadata": {},
   "outputs": [
    {
     "name": "stdout",
     "output_type": "stream",
     "text": [
      "<class 'spreg.ols.OLS'>\n",
      "log(CMEDV) ~ {RM**2} + AGE + log(RAD) + TAX + PTRATIO + {B/1000} + log(LSTAT) + CRIM + ZN + INDUS + CHAS + {w.sparse @ `CRIM`} + {w.sparse @ `ZN`} + {w.sparse @ `INDUS`} + {w.sparse @ `CHAS`} + {(10*NOX)**2} - 1\n",
      "REGRESSION\n",
      "----------\n",
      "SUMMARY OF OUTPUT: ORDINARY LEAST SQUARES\n",
      "-----------------------------------------\n",
      "Data set            :     unknown\n",
      "Weights matrix      :     unknown\n",
      "Dependent Variable  :  log(CMEDV)                Number of Observations:         506\n",
      "Mean dependent var  :      3.0346                Number of Variables   :          17\n",
      "S.D. dependent var  :      0.4083                Degrees of Freedom    :         489\n",
      "R-squared           :      0.8136\n",
      "Adjusted R-squared  :      0.8075\n",
      "Sum squared residual:      15.692                F-statistic           :    133.3901\n",
      "Sigma-square        :       0.032                Prob(F-statistic)     :  1.176e-166\n",
      "S.E. of regression  :       0.179                Log likelihood        :     160.790\n",
      "Sigma-square ML     :       0.031                Akaike info criterion :    -287.580\n",
      "S.E of regression ML:      0.1761                Schwarz criterion     :    -215.729\n",
      "\n",
      "------------------------------------------------------------------------------------\n",
      "            Variable     Coefficient       Std.Error     t-Statistic     Probability\n",
      "------------------------------------------------------------------------------------\n",
      "            CONSTANT       4.0590141       0.1464169      27.7222974       0.0000000\n",
      "         (10*NOX)**2      -0.0048271       0.0011150      -4.3292679       0.0000182\n",
      "                 AGE       0.0007245       0.0005213       1.3897258       0.1652445\n",
      "              B/1000       0.3137711       0.1041414       3.0129346       0.0027215\n",
      "                CHAS      -0.0072013       0.0372545      -0.1933000       0.8468043\n",
      "                CRIM      -0.0090443       0.0012757      -7.0894143       0.0000000\n",
      "               INDUS       0.0027074       0.0026552       1.0196404       0.3084032\n",
      "             PTRATIO      -0.0271148       0.0051035      -5.3129642       0.0000002\n",
      "               RM**2       0.0068911       0.0012914       5.3361912       0.0000001\n",
      "                 TAX      -0.0001795       0.0001262      -1.4215878       0.1557834\n",
      "                  ZN       0.0003210       0.0005468       0.5871179       0.5573955\n",
      "          log(LSTAT)      -0.3671995       0.0247619     -14.8292048       0.0000000\n",
      "            log(RAD)       0.0787856       0.0199057       3.9579434       0.0000868\n",
      "   w.sparse @ `CHAS`       0.0281007       0.0055015       5.1077781       0.0000005\n",
      "   w.sparse @ `CRIM`      -0.0004434       0.0001766      -2.5115406       0.0123418\n",
      "  w.sparse @ `INDUS`       0.0000709       0.0002227       0.3183056       0.7503890\n",
      "     w.sparse @ `ZN`      -0.0002254       0.0000698      -3.2312247       0.0013157\n",
      "------------------------------------------------------------------------------------\n",
      "\n",
      "REGRESSION DIAGNOSTICS\n",
      "MULTICOLLINEARITY CONDITION NUMBER           72.089\n",
      "\n",
      "TEST ON NORMALITY OF ERRORS\n",
      "TEST                             DF        VALUE           PROB\n",
      "Jarque-Bera                       2         358.987           0.0000\n",
      "\n",
      "DIAGNOSTICS FOR HETEROSKEDASTICITY\n",
      "RANDOM COEFFICIENTS\n",
      "TEST                             DF        VALUE           PROB\n",
      "Breusch-Pagan test               16         381.281           0.0000\n",
      "Koenker-Bassett test             16         127.930           0.0000\n",
      "================================ END OF REPORT =====================================\n"
     ]
    }
   ],
   "source": [
    "formula = \"log(CMEDV) ~ {RM**2} + AGE + log(RAD) + TAX + PTRATIO\" + \\\n",
    "          \" + {B/1000} + log(LSTAT) + <CRIM + ZN + INDUS + CHAS> + {(10*NOX)**2}\"\n",
    "model, parsed_formula = spreg.from_formula(formula, boston_df, w=weights, debug=True)\n",
    "print(type(model))\n",
    "print(parsed_formula)\n",
    "print(model.summary)"
   ]
  },
  {
   "cell_type": "markdown",
   "id": "50a68c14",
   "metadata": {},
   "source": [
    "### SLY model\n",
    "\n",
    "The default estimation routine for spatial lag and error models is generalized method of moments."
   ]
  },
  {
   "cell_type": "code",
   "execution_count": 10,
   "id": "b93db5fc",
   "metadata": {},
   "outputs": [
    {
     "name": "stdout",
     "output_type": "stream",
     "text": [
      "<class 'spreg.twosls_sp.GM_Lag'>\n",
      "log(CMEDV) ~ {RM**2} + AGE - 1\n",
      "REGRESSION\n",
      "----------\n",
      "SUMMARY OF OUTPUT: SPATIAL TWO STAGE LEAST SQUARES\n",
      "--------------------------------------------------\n",
      "Data set            :     unknown\n",
      "Weights matrix      :     unknown\n",
      "Dependent Variable  :  log(CMEDV)                Number of Observations:         506\n",
      "Mean dependent var  :      3.0346                Number of Variables   :           4\n",
      "S.D. dependent var  :      0.4083                Degrees of Freedom    :         502\n",
      "Pseudo R-squared    :      0.5122\n",
      "Spatial Pseudo R-squared:  0.5172\n",
      "\n",
      "------------------------------------------------------------------------------------\n",
      "            Variable     Coefficient       Std.Error     z-Statistic     Probability\n",
      "------------------------------------------------------------------------------------\n",
      "            CONSTANT       2.3761615       0.1165066      20.3950774       0.0000000\n",
      "                 AGE      -0.0047504       0.0004623     -10.2755184       0.0000000\n",
      "               RM**2       0.0255807       0.0014339      17.8400509       0.0000000\n",
      "        W_log(CMEDV)      -0.0007825       0.0018083      -0.4327254       0.6652143\n",
      "------------------------------------------------------------------------------------\n",
      "Instrumented: W_log(CMEDV)\n",
      "Instruments: W_AGE, W_RM**2\n",
      "================================ END OF REPORT =====================================\n"
     ]
    }
   ],
   "source": [
    "formula = \"log(CMEDV) ~ {RM**2} + AGE + <log(CMEDV)>\"\n",
    "model, parsed_formula = spreg.from_formula(formula, boston_df, w=weights, debug=True)\n",
    "print(type(model))\n",
    "print(parsed_formula)\n",
    "print(model.summary)"
   ]
  },
  {
   "cell_type": "markdown",
   "id": "7c95914e",
   "metadata": {},
   "source": [
    "### Error model"
   ]
  },
  {
   "cell_type": "code",
   "execution_count": 11,
   "id": "3d9278c5",
   "metadata": {},
   "outputs": [
    {
     "name": "stdout",
     "output_type": "stream",
     "text": [
      "<class 'spreg.error_sp.GM_Error'>\n",
      "log(CMEDV) ~ {RM**2} + AGE + TAX + PTRATIO + {B/1000} + log(LSTAT) + CRIM + ZN + INDUS + CHAS + {(10*NOX)**2} - 1\n",
      "REGRESSION\n",
      "----------\n",
      "SUMMARY OF OUTPUT: SPATIALLY WEIGHTED LEAST SQUARES\n",
      "---------------------------------------------------\n",
      "Data set            :     unknown\n",
      "Weights matrix      :     unknown\n",
      "Dependent Variable  :  log(CMEDV)                Number of Observations:         506\n",
      "Mean dependent var  :      3.0346                Number of Variables   :          12\n",
      "S.D. dependent var  :      0.4083                Degrees of Freedom    :         494\n",
      "Pseudo R-squared    :      0.7743\n",
      "\n",
      "------------------------------------------------------------------------------------\n",
      "            Variable     Coefficient       Std.Error     z-Statistic     Probability\n",
      "------------------------------------------------------------------------------------\n",
      "            CONSTANT       3.8739651       0.1446268      26.7859345       0.0000000\n",
      "         (10*NOX)**2      -0.0036456       0.0012723      -2.8652858       0.0041663\n",
      "                 AGE       0.0004691       0.0005024       0.9338189       0.3503973\n",
      "              B/1000       0.4703094       0.1144509       4.1092680       0.0000397\n",
      "                CHAS       0.0211057       0.0331704       0.6362810       0.5245933\n",
      "                CRIM      -0.0085158       0.0011557      -7.3687263       0.0000000\n",
      "               INDUS       0.0003803       0.0024475       0.1553911       0.8765130\n",
      "             PTRATIO      -0.0173776       0.0052189      -3.3297532       0.0008692\n",
      "               RM**2       0.0075049       0.0012486       6.0106202       0.0000000\n",
      "                 TAX      -0.0001065       0.0000957      -1.1127263       0.2658260\n",
      "                  ZN      -0.0007143       0.0004759      -1.5010444       0.1333441\n",
      "          log(LSTAT)      -0.3438520       0.0242536     -14.1773455       0.0000000\n",
      "              lambda       0.0415812    \n",
      "------------------------------------------------------------------------------------\n",
      "================================ END OF REPORT =====================================\n"
     ]
    }
   ],
   "source": [
    "formula = \"log(CMEDV) ~ {RM**2} + AGE + TAX + PTRATIO + {B/1000}\" + \\\n",
    "          \" + log(LSTAT) + CRIM + ZN + INDUS + CHAS + {(10*NOX)**2} + &\"\n",
    "model, parsed_formula = spreg.from_formula(formula, boston_df, w=weights, debug=True)\n",
    "print(type(model))\n",
    "print(parsed_formula)\n",
    "print(model.summary)"
   ]
  },
  {
   "cell_type": "markdown",
   "id": "33d17fcb",
   "metadata": {},
   "source": [
    "### Error model with ML estimation"
   ]
  },
  {
   "cell_type": "code",
   "execution_count": 12,
   "id": "557186ab",
   "metadata": {},
   "outputs": [
    {
     "name": "stderr",
     "output_type": "stream",
     "text": [
      "/home/tdh/anaconda3/envs/spreg-testing/lib/python3.9/site-packages/scipy/optimize/_minimize.py:863: RuntimeWarning: Method 'bounded' does not support relative tolerance in x; defaulting to absolute tolerance.\n",
      "  warn(\"Method 'bounded' does not support relative tolerance in x; \"\n",
      "/mnt/c/Users/tyler/OneDrive/Documents/research/spreg/spreg/ml_error.py:509: RuntimeWarning: invalid value encountered in log\n",
      "  jacob = np.log(np.linalg.det(a))\n"
     ]
    },
    {
     "name": "stdout",
     "output_type": "stream",
     "text": [
      "<class 'spreg.ml_error.ML_Error'>\n",
      "log(CMEDV) ~ {RM**2} + AGE + TAX + PTRATIO + {B/1000} + log(LSTAT) + CRIM + ZN + INDUS + CHAS + {(10*NOX)**2} - 1\n",
      "REGRESSION\n",
      "----------\n",
      "SUMMARY OF OUTPUT: MAXIMUM LIKELIHOOD SPATIAL ERROR (METHOD = FULL)\n",
      "-------------------------------------------------------------------\n",
      "Data set            :     unknown\n",
      "Weights matrix      :     unknown\n",
      "Dependent Variable  :  log(CMEDV)                Number of Observations:         506\n",
      "Mean dependent var  :      3.0346                Number of Variables   :          12\n",
      "S.D. dependent var  :      0.4083                Degrees of Freedom    :         494\n",
      "Pseudo R-squared    :      0.7654\n",
      "Sigma-square ML     :       0.024                Log likelihood        :     212.183\n",
      "S.E of regression   :       0.154                Akaike info criterion :    -400.366\n",
      "                                                 Schwarz criterion     :    -349.647\n",
      "\n",
      "------------------------------------------------------------------------------------\n",
      "            Variable     Coefficient       Std.Error     z-Statistic     Probability\n",
      "------------------------------------------------------------------------------------\n",
      "            CONSTANT       3.7296717       0.1442783      25.8505348       0.0000000\n",
      "         (10*NOX)**2      -0.0031917       0.0013872      -2.3007060       0.0214083\n",
      "                 AGE      -0.0001630       0.0004966      -0.3281701       0.7427830\n",
      "              B/1000       0.6120703       0.1060391       5.7721197       0.0000000\n",
      "                CHAS       0.0040424       0.0315149       0.1282692       0.8979360\n",
      "                CRIM      -0.0077218       0.0010879      -7.0977308       0.0000000\n",
      "               INDUS       0.0027656       0.0024097       1.1477165       0.2510856\n",
      "             PTRATIO      -0.0168026       0.0051264      -3.2776833       0.0010466\n",
      "               RM**2       0.0082783       0.0011662       7.0983540       0.0000000\n",
      "                 TAX      -0.0001310       0.0000903      -1.4496420       0.1471584\n",
      "                  ZN      -0.0000143       0.0004660      -0.0306112       0.9755796\n",
      "          log(LSTAT)      -0.3193030       0.0232729     -13.7199648       0.0000000\n",
      "              lambda       0.0846495       0.0005601     151.1342800       0.0000000\n",
      "------------------------------------------------------------------------------------\n",
      "================================ END OF REPORT =====================================\n"
     ]
    }
   ],
   "source": [
    "formula = \"log(CMEDV) ~ {RM**2} + AGE + TAX + PTRATIO + {B/1000}\" + \\\n",
    "          \" + log(LSTAT) + CRIM + ZN + INDUS + CHAS + {(10*NOX)**2} + &\"\n",
    "model, parsed_formula = spreg.from_formula(formula, boston_df, method=\"full\",\n",
    "                                           w=weights, debug=True)\n",
    "print(type(model))\n",
    "print(parsed_formula)\n",
    "print(model.summary)"
   ]
  },
  {
   "cell_type": "markdown",
   "id": "70d3d424",
   "metadata": {},
   "source": [
    "### Combo model\n",
    "\n",
    "This model includes spatial lags of covariates, a spatial lag of the dependent variable, and a spatial error component."
   ]
  },
  {
   "cell_type": "code",
   "execution_count": 13,
   "id": "66b66a16",
   "metadata": {},
   "outputs": [
    {
     "name": "stdout",
     "output_type": "stream",
     "text": [
      "<class 'spreg.error_sp.GM_Combo'>\n",
      "log(CMEDV) ~ {RM**2} + AGE + TAX + {B/1000} + log(LSTAT) + CRIM + ZN + CHAS + {w.sparse @ `ZN`} + {w.sparse @ `CHAS`} + {(10*NOX)**2} - 1\n",
      "REGRESSION\n",
      "----------\n",
      "SUMMARY OF OUTPUT: SPATIALLY WEIGHTED TWO STAGE LEAST SQUARES\n",
      "-------------------------------------------------------------\n",
      "Data set            :     unknown\n",
      "Weights matrix      :     unknown\n",
      "Dependent Variable  :  log(CMEDV)                Number of Observations:         506\n",
      "Mean dependent var  :      3.0346                Number of Variables   :          13\n",
      "S.D. dependent var  :      0.4083                Degrees of Freedom    :         493\n",
      "Pseudo R-squared    :      0.6585\n",
      "Spatial Pseudo R-squared:  0.6841\n",
      "\n",
      "------------------------------------------------------------------------------------\n",
      "            Variable     Coefficient       Std.Error     z-Statistic     Probability\n",
      "------------------------------------------------------------------------------------\n",
      "            CONSTANT       5.1971634       0.1721076      30.1971717       0.0000000\n",
      "         (10*NOX)**2      -0.0102596       0.0018788      -5.4607755       0.0000000\n",
      "                 AGE       0.0020769       0.0007861       2.6420081       0.0082416\n",
      "              B/1000      -1.2732898       0.1469607      -8.6641540       0.0000000\n",
      "                CHAS       0.2268375       0.0369205       6.1439492       0.0000000\n",
      "                CRIM      -0.0070445       0.0014850      -4.7438453       0.0000021\n",
      "               RM**2       0.0069980       0.0018930       3.6968357       0.0002183\n",
      "                 TAX      -0.0004952       0.0001172      -4.2252963       0.0000239\n",
      "                  ZN       0.0005342       0.0006605       0.8087373       0.4186663\n",
      "          log(LSTAT)      -0.3579211       0.0386928      -9.2503175       0.0000000\n",
      "   w.sparse @ `CHAS`       0.0434057       0.0170727       2.5424067       0.0110092\n",
      "     w.sparse @ `ZN`      -0.0001839       0.0000894      -2.0575133       0.0396369\n",
      "        W_log(CMEDV)      -0.0140842       0.0009188     -15.3282770       0.0000000\n",
      "              lambda       0.0544139    \n",
      "------------------------------------------------------------------------------------\n",
      "Instrumented: W_log(CMEDV)\n",
      "Instruments: W_(10*NOX)**2, W_AGE, W_B/1000, W_CHAS, W_CRIM, W_RM**2, W_TAX,\n",
      "             W_ZN, W_log(LSTAT), W_w.sparse @ `CHAS`, W_w.sparse @ `ZN`\n",
      "================================ END OF REPORT =====================================\n"
     ]
    }
   ],
   "source": [
    "formula = \"log(CMEDV) ~ {RM**2} + AGE + TAX + {B/1000}\" + \\\n",
    "          \" + log(LSTAT) + CRIM + <ZN + CHAS + log(CMEDV)> + {(10*NOX)**2} + &\"\n",
    "model, parsed_formula = spreg.from_formula(formula, boston_df, w=weights, debug=True)\n",
    "print(type(model))\n",
    "print(parsed_formula)\n",
    "print(model.summary)"
   ]
  },
  {
   "cell_type": "code",
   "execution_count": null,
   "id": "73c19347",
   "metadata": {},
   "outputs": [],
   "source": []
  }
 ],
 "metadata": {
  "kernelspec": {
   "display_name": "Python 3 (ipykernel)",
   "language": "python",
   "name": "python3"
  },
  "language_info": {
   "codemirror_mode": {
    "name": "ipython",
    "version": 3
   },
   "file_extension": ".py",
   "mimetype": "text/x-python",
   "name": "python",
   "nbconvert_exporter": "python",
   "pygments_lexer": "ipython3",
   "version": "3.9.13"
  }
 },
 "nbformat": 4,
 "nbformat_minor": 5
}
